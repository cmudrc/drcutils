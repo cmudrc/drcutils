{
  "nbformat": 4,
  "nbformat_minor": 0,
  "metadata": {
    "colab": {
      "provenance": [],
      "authorship_tag": "ABX9TyOrDpc/dRcD2tPmhEWDIHu2"
    },
    "kernelspec": {
      "name": "python3",
      "display_name": "Python 3"
    },
    "language_info": {
      "name": "python"
    }
  },
  "cells": [
    {
      "cell_type": "markdown",
      "source": [
        "# Install"
      ],
      "metadata": {
        "id": "kVp7Z7rqWoTr"
      }
    },
    {
      "cell_type": "code",
      "execution_count": 1,
      "metadata": {
        "colab": {
          "base_uri": "https://localhost:8080/"
        },
        "id": "bKEiamOLWVXa",
        "outputId": "a4009bbf-b3e2-464c-d1bf-56ca47c579b8"
      },
      "outputs": [
        {
          "output_type": "stream",
          "name": "stdout",
          "text": [
            "\u001b[K     |████████████████████████████████| 182 kB 7.3 MB/s \n",
            "\u001b[K     |████████████████████████████████| 451 kB 26.7 MB/s \n",
            "\u001b[K     |████████████████████████████████| 11.6 MB 37.9 MB/s \n",
            "\u001b[K     |████████████████████████████████| 67 kB 707 kB/s \n",
            "\u001b[K     |████████████████████████████████| 212 kB 34.9 MB/s \n",
            "\u001b[K     |████████████████████████████████| 132 kB 46.3 MB/s \n",
            "\u001b[K     |████████████████████████████████| 127 kB 43.3 MB/s \n",
            "\u001b[K     |████████████████████████████████| 55 kB 1.7 MB/s \n",
            "\u001b[K     |████████████████████████████████| 56 kB 3.0 MB/s \n",
            "\u001b[K     |████████████████████████████████| 84 kB 2.3 MB/s \n",
            "\u001b[K     |████████████████████████████████| 2.3 MB 36.3 MB/s \n",
            "\u001b[K     |████████████████████████████████| 278 kB 21.3 MB/s \n",
            "\u001b[K     |████████████████████████████████| 106 kB 53.1 MB/s \n",
            "\u001b[K     |████████████████████████████████| 54 kB 2.4 MB/s \n",
            "\u001b[K     |████████████████████████████████| 213 kB 47.5 MB/s \n",
            "\u001b[K     |████████████████████████████████| 84 kB 2.0 MB/s \n",
            "\u001b[K     |████████████████████████████████| 64 kB 1.4 MB/s \n",
            "\u001b[K     |████████████████████████████████| 80 kB 4.3 MB/s \n",
            "\u001b[K     |████████████████████████████████| 68 kB 3.4 MB/s \n",
            "\u001b[K     |████████████████████████████████| 68 kB 5.5 MB/s \n",
            "\u001b[K     |████████████████████████████████| 68 kB 5.5 MB/s \n",
            "\u001b[K     |████████████████████████████████| 68 kB 5.6 MB/s \n",
            "\u001b[K     |████████████████████████████████| 50 kB 3.2 MB/s \n",
            "\u001b[K     |████████████████████████████████| 856 kB 42.8 MB/s \n",
            "\u001b[K     |████████████████████████████████| 593 kB 43.2 MB/s \n",
            "\u001b[K     |████████████████████████████████| 4.0 MB 30.6 MB/s \n",
            "\u001b[K     |████████████████████████████████| 67 kB 5.7 MB/s \n",
            "\u001b[?25h  Building wheel for drcutils (setup.py) ... \u001b[?25l\u001b[?25hdone\n",
            "  Building wheel for ffmpy (setup.py) ... \u001b[?25l\u001b[?25hdone\n",
            "  Building wheel for python-multipart (setup.py) ... \u001b[?25l\u001b[?25hdone\n"
          ]
        }
      ],
      "source": [
        "!pip install git+https://github.com/cmudrc/drcutils -qqq"
      ]
    },
    {
      "cell_type": "code",
      "source": [
        "from drcutils.data_stack import *"
      ],
      "metadata": {
        "id": "bwWRFtwDWZjT"
      },
      "execution_count": 2,
      "outputs": []
    }
  ]
}