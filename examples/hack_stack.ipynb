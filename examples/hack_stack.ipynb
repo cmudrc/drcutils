{
  "nbformat": 4,
  "nbformat_minor": 0,
  "metadata": {
    "colab": {
      "provenance": []
    },
    "kernelspec": {
      "name": "python3",
      "display_name": "Python 3"
    },
    "language_info": {
      "name": "python"
    }
  },
  "cells": [
    {
      "cell_type": "markdown",
      "source": [
        "# Install"
      ],
      "metadata": {
        "id": "kVp7Z7rqWoTr"
      }
    },
    {
      "cell_type": "code",
      "execution_count": 1,
      "metadata": {
        "colab": {
          "base_uri": "https://localhost:8080/"
        },
        "id": "bKEiamOLWVXa",
        "outputId": "94226128-32e8-4d00-f87d-0a21d7a05321"
      },
      "outputs": [
        {
          "output_type": "stream",
          "name": "stdout",
          "text": [
            "\u001b[K     |████████████████████████████████| 451 kB 21.7 MB/s \n",
            "\u001b[K     |████████████████████████████████| 13.8 MB 64.2 MB/s \n",
            "\u001b[K     |████████████████████████████████| 182 kB 63.2 MB/s \n",
            "\u001b[K     |████████████████████████████████| 1.5 MB 52.2 MB/s \n",
            "\u001b[K     |████████████████████████████████| 67 kB 6.0 MB/s \n",
            "\u001b[K     |████████████████████████████████| 212 kB 66.5 MB/s \n",
            "\u001b[K     |████████████████████████████████| 132 kB 64.1 MB/s \n",
            "\u001b[K     |████████████████████████████████| 127 kB 84.6 MB/s \n",
            "\u001b[K     |████████████████████████████████| 2.3 MB 50.9 MB/s \n",
            "\u001b[K     |████████████████████████████████| 84 kB 4.7 MB/s \n",
            "\u001b[K     |████████████████████████████████| 56 kB 5.3 MB/s \n",
            "\u001b[K     |████████████████████████████████| 106 kB 63.5 MB/s \n",
            "\u001b[K     |████████████████████████████████| 55 kB 4.3 MB/s \n",
            "\u001b[K     |████████████████████████████████| 278 kB 60.3 MB/s \n",
            "\u001b[K     |████████████████████████████████| 84 kB 3.5 MB/s \n",
            "\u001b[K     |████████████████████████████████| 64 kB 3.5 MB/s \n",
            "\u001b[K     |████████████████████████████████| 80 kB 10.9 MB/s \n",
            "\u001b[K     |████████████████████████████████| 68 kB 7.2 MB/s \n",
            "\u001b[K     |████████████████████████████████| 58 kB 6.6 MB/s \n",
            "\u001b[K     |████████████████████████████████| 1.6 MB 53.2 MB/s \n",
            "\u001b[K     |████████████████████████████████| 50 kB 5.0 MB/s \n",
            "\u001b[K     |████████████████████████████████| 67 kB 5.8 MB/s \n",
            "\u001b[?25h  Building wheel for drcutils (setup.py) ... \u001b[?25l\u001b[?25hdone\n",
            "  Building wheel for ffmpy (setup.py) ... \u001b[?25l\u001b[?25hdone\n",
            "  Building wheel for python-multipart (setup.py) ... \u001b[?25l\u001b[?25hdone\n"
          ]
        }
      ],
      "source": [
        "!pip install git+https://github.com/cmudrc/drcutils -qqq"
      ]
    },
    {
      "cell_type": "markdown",
      "source": [
        "# Demonstrate Visualization"
      ],
      "metadata": {
        "id": "BvG5l-0icWgR"
      }
    },
    {
      "cell_type": "code",
      "source": [
        "from drcutils.hack_stack import *"
      ],
      "metadata": {
        "id": "bwWRFtwDWZjT"
      },
      "execution_count": 2,
      "outputs": []
    },
    {
      "cell_type": "code",
      "source": [
        "# Download mobilenet to visualize\n",
        "!wget https://raw.githubusercontent.com/aio-libs/aiohttp-demos/master/demos/imagetagger/tests/data/mobilenet.h5"
      ],
      "metadata": {
        "id": "y6gWakfda6Qc",
        "outputId": "ca6c9961-f725-4c1b-eb90-ea5001cd0a66",
        "colab": {
          "base_uri": "https://localhost:8080/"
        }
      },
      "execution_count": 3,
      "outputs": [
        {
          "output_type": "stream",
          "name": "stdout",
          "text": [
            "--2022-12-17 20:07:39--  https://raw.githubusercontent.com/aio-libs/aiohttp-demos/master/demos/imagetagger/tests/data/mobilenet.h5\n",
            "Resolving raw.githubusercontent.com (raw.githubusercontent.com)... 185.199.108.133, 185.199.109.133, 185.199.110.133, ...\n",
            "Connecting to raw.githubusercontent.com (raw.githubusercontent.com)|185.199.108.133|:443... connected.\n",
            "HTTP request sent, awaiting response... 200 OK\n",
            "Length: 17271048 (16M) [application/octet-stream]\n",
            "Saving to: ‘mobilenet.h5’\n",
            "\n",
            "mobilenet.h5        100%[===================>]  16.47M  --.-KB/s    in 0.05s   \n",
            "\n",
            "2022-12-17 20:07:39 (306 MB/s) - ‘mobilenet.h5’ saved [17271048/17271048]\n",
            "\n"
          ]
        }
      ]
    },
    {
      "cell_type": "code",
      "source": [
        "# Visualize it\n",
        "visualize_network(\"mobilenet.h5\")"
      ],
      "metadata": {
        "id": "ExM8DZama6zl",
        "outputId": "aca1a996-5faa-44e3-bd1d-7a7b79581790",
        "colab": {
          "base_uri": "https://localhost:8080/",
          "height": 521
        }
      },
      "execution_count": 4,
      "outputs": [
        {
          "output_type": "display_data",
          "data": {
            "text/plain": [
              "<IPython.core.display.Javascript object>"
            ],
            "application/javascript": [
              "\n",
              "        (async ()=>{\n",
              "            fm = document.createElement('iframe')\n",
              "            fm.src = await google.colab.kernel.proxyPort(8000)\n",
              "            fm.width = '95%'\n",
              "            fm.height = '500'\n",
              "            fm.frameBorder = 0\n",
              "            document.body.append(fm)\n",
              "        })();\n",
              "        "
            ]
          },
          "metadata": {}
        }
      ]
    },
    {
      "cell_type": "code",
      "source": [],
      "metadata": {
        "id": "sci8V9jnbzUD"
      },
      "execution_count": 4,
      "outputs": []
    }
  ]
}