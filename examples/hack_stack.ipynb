{
  "nbformat": 4,
  "nbformat_minor": 0,
  "metadata": {
    "colab": {
      "provenance": []
    },
    "kernelspec": {
      "name": "python3",
      "display_name": "Python 3"
    },
    "language_info": {
      "name": "python"
    }
  },
  "cells": [
    {
      "cell_type": "markdown",
      "source": [
        "# Install"
      ],
      "metadata": {
        "id": "kVp7Z7rqWoTr"
      }
    },
    {
      "cell_type": "code",
      "execution_count": 1,
      "metadata": {
        "colab": {
          "base_uri": "https://localhost:8080/"
        },
        "id": "bKEiamOLWVXa",
        "outputId": "f78b7c0f-a73c-4d4f-dcb5-d44552181ce3"
      },
      "outputs": [
        {
          "output_type": "stream",
          "name": "stdout",
          "text": [
            "\u001b[K     |████████████████████████████████| 451 kB 33.4 MB/s \n",
            "\u001b[K     |████████████████████████████████| 13.8 MB 46.9 MB/s \n",
            "\u001b[K     |████████████████████████████████| 182 kB 84.7 MB/s \n",
            "\u001b[K     |████████████████████████████████| 1.5 MB 60.0 MB/s \n",
            "\u001b[K     |████████████████████████████████| 67 kB 6.8 MB/s \n",
            "\u001b[K     |████████████████████████████████| 212 kB 75.5 MB/s \n",
            "\u001b[K     |████████████████████████████████| 132 kB 70.3 MB/s \n",
            "\u001b[K     |████████████████████████████████| 127 kB 85.7 MB/s \n",
            "\u001b[K     |████████████████████████████████| 106 kB 70.4 MB/s \n",
            "\u001b[K     |████████████████████████████████| 56 kB 5.4 MB/s \n",
            "\u001b[K     |████████████████████████████████| 55 kB 2.5 MB/s \n",
            "\u001b[K     |████████████████████████████████| 84 kB 3.6 MB/s \n",
            "\u001b[K     |████████████████████████████████| 278 kB 105.8 MB/s \n",
            "\u001b[K     |████████████████████████████████| 84 kB 4.7 MB/s \n",
            "\u001b[K     |████████████████████████████████| 2.3 MB 83.4 MB/s \n",
            "\u001b[K     |████████████████████████████████| 64 kB 3.6 MB/s \n",
            "\u001b[K     |████████████████████████████████| 80 kB 11.7 MB/s \n",
            "\u001b[K     |████████████████████████████████| 68 kB 9.0 MB/s \n",
            "\u001b[K     |████████████████████████████████| 58 kB 7.7 MB/s \n",
            "\u001b[K     |████████████████████████████████| 1.6 MB 71.6 MB/s \n",
            "\u001b[K     |████████████████████████████████| 50 kB 8.3 MB/s \n",
            "\u001b[K     |████████████████████████████████| 67 kB 7.2 MB/s \n",
            "\u001b[?25h  Building wheel for drcutils (setup.py) ... \u001b[?25l\u001b[?25hdone\n",
            "  Building wheel for ffmpy (setup.py) ... \u001b[?25l\u001b[?25hdone\n",
            "  Building wheel for python-multipart (setup.py) ... \u001b[?25l\u001b[?25hdone\n"
          ]
        }
      ],
      "source": [
        "!pip install git+https://github.com/cmudrc/drcutils -qqq"
      ]
    },
    {
      "cell_type": "markdown",
      "source": [
        "# Demonstrate Visualization"
      ],
      "metadata": {
        "id": "BvG5l-0icWgR"
      }
    },
    {
      "cell_type": "code",
      "source": [
        "from drcutils.hack_stack import *"
      ],
      "metadata": {
        "id": "bwWRFtwDWZjT"
      },
      "execution_count": 15,
      "outputs": []
    },
    {
      "cell_type": "code",
      "source": [
        "# Download mobilenet to visualize\n",
        "!wget https://raw.githubusercontent.com/aio-libs/aiohttp-demos/master/demos/imagetagger/tests/data/mobilenet.h5"
      ],
      "metadata": {
        "id": "y6gWakfda6Qc",
        "outputId": "f9e6d6c0-18fe-4cbc-d21a-02738123b9d6",
        "colab": {
          "base_uri": "https://localhost:8080/"
        }
      },
      "execution_count": 13,
      "outputs": [
        {
          "output_type": "stream",
          "name": "stdout",
          "text": [
            "--2022-12-17 18:56:16--  https://raw.githubusercontent.com/aio-libs/aiohttp-demos/master/demos/imagetagger/tests/data/mobilenet.h5\n",
            "Resolving raw.githubusercontent.com (raw.githubusercontent.com)... 185.199.108.133, 185.199.109.133, 185.199.110.133, ...\n",
            "Connecting to raw.githubusercontent.com (raw.githubusercontent.com)|185.199.108.133|:443... connected.\n",
            "HTTP request sent, awaiting response... 200 OK\n",
            "Length: 17271048 (16M) [application/octet-stream]\n",
            "Saving to: ‘mobilenet.h5.1’\n",
            "\n",
            "\rmobilenet.h5.1        0%[                    ]       0  --.-KB/s               \rmobilenet.h5.1      100%[===================>]  16.47M  --.-KB/s    in 0.04s   \n",
            "\n",
            "2022-12-17 18:56:16 (375 MB/s) - ‘mobilenet.h5.1’ saved [17271048/17271048]\n",
            "\n"
          ]
        }
      ]
    },
    {
      "cell_type": "code",
      "source": [
        "# Visualize it\n",
        "visualize_network(\"mobilenet.h5\")"
      ],
      "metadata": {
        "id": "ExM8DZama6zl",
        "outputId": "733d141c-7274-4c12-91a7-56f8a506b19d",
        "colab": {
          "base_uri": "https://localhost:8080/",
          "height": 521
        }
      },
      "execution_count": 16,
      "outputs": [
        {
          "output_type": "display_data",
          "data": {
            "text/plain": [
              "<IPython.core.display.Javascript object>"
            ],
            "application/javascript": [
              "\n",
              "        (async ()=>{\n",
              "            fm = document.createElement('iframe')\n",
              "            fm.src = await google.colab.kernel.proxyPort(8000)\n",
              "            fm.width = '95%'\n",
              "            fm.height = '500'\n",
              "            fm.frameBorder = 0\n",
              "            document.body.append(fm)\n",
              "        })();\n",
              "        "
            ]
          },
          "metadata": {}
        }
      ]
    },
    {
      "cell_type": "code",
      "source": [],
      "metadata": {
        "id": "sci8V9jnbzUD"
      },
      "execution_count": null,
      "outputs": []
    }
  ]
}