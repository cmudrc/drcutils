{
  "nbformat": 4,
  "nbformat_minor": 0,
  "metadata": {
    "colab": {
      "private_outputs": true,
      "provenance": [],
      "include_colab_link": true
    },
    "kernelspec": {
      "name": "python3",
      "display_name": "Python 3"
    },
    "language_info": {
      "name": "python"
    }
  },
  "cells": [
    {
      "cell_type": "markdown",
      "metadata": {
        "id": "view-in-github",
        "colab_type": "text"
      },
      "source": [
        "<a href=\"https://colab.research.google.com/github/cmudrc/drcutils/blob/main/examples/logo_adventures.ipynb\" target=\"_parent\"><img src=\"https://colab.research.google.com/assets/colab-badge.svg\" alt=\"Open In Colab\"/></a>"
      ]
    },
    {
      "cell_type": "markdown",
      "source": [
        "# Install"
      ],
      "metadata": {
        "id": "QmOpV1CkfIk2"
      }
    },
    {
      "cell_type": "code",
      "execution_count": null,
      "metadata": {
        "id": "33qPl0sSItz7"
      },
      "outputs": [],
      "source": [
        "!pip install drcutils -qqq # Install drcutils"
      ]
    },
    {
      "cell_type": "code",
      "source": [
        "!pip install scikit-fmm -qqq # Install the scikit fast marching method"
      ],
      "metadata": {
        "id": "9gFmUbtpbiRV"
      },
      "execution_count": null,
      "outputs": []
    },
    {
      "cell_type": "markdown",
      "source": [
        "# Signed Distance Field Collage\n",
        "Starting point for this code was here: https://stackoverflow.com/questions/68178747/fast-2d-signed-distance "
      ],
      "metadata": {
        "id": "iQ8wLXN5fdCb"
      }
    },
    {
      "cell_type": "code",
      "source": [
        "import drcutils.brand # for the logo figure\n",
        "from drcutils.colormaps import * # for the colormap"
      ],
      "metadata": {
        "id": "qE3Ph2nAI0d_"
      },
      "execution_count": null,
      "outputs": []
    },
    {
      "cell_type": "code",
      "source": [
        "# Code started from here:\n",
        "import numpy\n",
        "import PIL\n",
        "import matplotlib.pyplot\n",
        "import skfmm\n",
        "import random"
      ],
      "metadata": {
        "id": "XgjYTsWhJBsL"
      },
      "execution_count": null,
      "outputs": []
    },
    {
      "cell_type": "code",
      "source": [
        "# Load image\n",
        "im = numpy.array(PIL.Image.open(drcutils.brand.LOGO_ONLY_PNG).convert(mode=\"L\"))"
      ],
      "metadata": {
        "id": "zNMfNGp-Kb-f"
      },
      "execution_count": null,
      "outputs": []
    },
    {
      "cell_type": "code",
      "source": [
        "# Differentiate the inside / outside region\n",
        "phi = im < 255"
      ],
      "metadata": {
        "id": "qYK0yQcVKaCx"
      },
      "execution_count": null,
      "outputs": []
    },
    {
      "cell_type": "code",
      "source": [
        "# Compute signed distance\n",
        "sdf = skfmm.distance(\n",
        "    numpy.where(phi, 0, -1) + 0.5,\n",
        "    dx = 1\n",
        ")"
      ],
      "metadata": {
        "id": "LWAQ_4H0KWnq"
      },
      "execution_count": null,
      "outputs": []
    },
    {
      "cell_type": "code",
      "source": [
        "N = 3\n",
        "\n",
        "colormaps = [\n",
        "    hamster,\n",
        "    hamster_r,\n",
        "    warm_hamster,\n",
        "    warm_hamster_r,\n",
        "    cool_hamster,\n",
        "    cool_hamster_r,  \n",
        "    diverging_hamster,\n",
        "    diverging_hamster_r,\n",
        "    dark_diverging_hamster,\n",
        "    dark_diverging_hamster_r,\n",
        "]*N*N\n",
        "\n",
        "numpy.random.shuffle(colormaps)\n",
        "\n",
        "# Make a figure to plot on\n",
        "fig = matplotlib.pyplot.figure()\n",
        "\n",
        "# Iterate through subplots\n",
        "subplot_index = 1\n",
        "for colormap in colormaps:\n",
        "    sp = matplotlib.pyplot.subplot(2*N, 5*N, subplot_index)\n",
        "    ax = sp.imshow(sdf, cmap=colormap)\n",
        "    matplotlib.pyplot.axis('off');\n",
        "    subplot_index += 1\n",
        "\n",
        "# Make sure it looks ok\n",
        "fig.set_figheight(2)\n",
        "fig.set_figwidth(5)\n",
        "fig.set_dpi(200)\n",
        "matplotlib.pyplot.tight_layout(pad=0)"
      ],
      "metadata": {
        "id": "NBZ72FkCcOiQ"
      },
      "execution_count": null,
      "outputs": []
    }
  ]
}