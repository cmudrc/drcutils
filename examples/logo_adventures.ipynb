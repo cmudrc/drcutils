{
  "nbformat": 4,
  "nbformat_minor": 0,
  "metadata": {
    "colab": {
      "private_outputs": true,
      "provenance": [],
      "include_colab_link": true
    },
    "kernelspec": {
      "name": "python3",
      "display_name": "Python 3"
    },
    "language_info": {
      "name": "python"
    }
  },
  "cells": [
    {
      "cell_type": "markdown",
      "metadata": {
        "id": "view-in-github",
        "colab_type": "text"
      },
      "source": [
        "<a href=\"https://colab.research.google.com/github/cmudrc/drcutils/blob/main/examples/logo_adventures.ipynb\" target=\"_parent\"><img src=\"https://colab.research.google.com/assets/colab-badge.svg\" alt=\"Open In Colab\"/></a>"
      ]
    },
    {
      "cell_type": "markdown",
      "source": [
        "# Install"
      ],
      "metadata": {
        "id": "QmOpV1CkfIk2"
      }
    },
    {
      "cell_type": "code",
      "execution_count": null,
      "metadata": {
        "id": "33qPl0sSItz7"
      },
      "outputs": [],
      "source": [
        "!pip install git+https://github.com/cmudrc/drcutils -qqq"
      ]
    },
    {
      "cell_type": "code",
      "source": [
        "!pip install scikit-fmm -qqq"
      ],
      "metadata": {
        "id": "9gFmUbtpbiRV"
      },
      "execution_count": null,
      "outputs": []
    },
    {
      "cell_type": "markdown",
      "source": [
        "# Signed Distance Field"
      ],
      "metadata": {
        "id": "iQ8wLXN5fdCb"
      }
    },
    {
      "cell_type": "code",
      "source": [
        "import drcutils.brand.logo_only\n",
        "import drcutils.colormaps"
      ],
      "metadata": {
        "id": "qE3Ph2nAI0d_"
      },
      "execution_count": null,
      "outputs": []
    },
    {
      "cell_type": "code",
      "source": [
        "# Code started from here:\n",
        "import numpy\n",
        "import imageio\n",
        "import matplotlib.pyplot\n",
        "import skfmm\n",
        "\n",
        "# Load image\n",
        "im = imageio.imread(drcutils.brand.logo_only.PNG_PATH)\n",
        "ima = numpy.array(im)\n",
        "\n",
        "# Differentiate the inside / outside region\n",
        "phi = numpy.int64(numpy.sum(ima[:, :, :3], axis = 2) < 255*3)\n",
        "\n",
        "# The array will go from - 1 to 0. Add 0.5(arbitrary) so there 's a 0 contour.\n",
        "phi = numpy.where(phi, 0, -1) + 0.5\n",
        "\n",
        "# Compute signed distance\n",
        "# dx = cell(pixel) size\n",
        "sd = skfmm.distance(phi, dx = 1)\n",
        "matplotlib.pyplot.imshow(sd, cmap=drcutils.colormaps.diverging_hamster_colormap)\n",
        "matplotlib.pyplot.axis('off')\n",
        "matplotlib.pyplot.show()"
      ],
      "metadata": {
        "id": "XgjYTsWhJBsL"
      },
      "execution_count": null,
      "outputs": []
    },
    {
      "cell_type": "code",
      "source": [],
      "metadata": {
        "id": "NBZ72FkCcOiQ"
      },
      "execution_count": null,
      "outputs": []
    }
  ]
}